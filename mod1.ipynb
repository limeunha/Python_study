{
 "cells": [
  {
   "cell_type": "code",
   "execution_count": null,
   "id": "d680bea9-1a4c-4fd6-bf34-2a79fd74557b",
   "metadata": {},
   "outputs": [],
   "source": [
    "#mod1 모듈\n",
    "\n",
    "def add(a,b):\n",
    "    return a + b\n",
    "\n",
    "def add(a,b):\n",
    "    return a - b\n",
    "\n",
    "#상수(다문자로만 써야함)\n",
    "PI = 3.141592\n",
    "\n",
    "Class Math:\n",
    "    def solv(self, r):\n",
    "        return PI * (r ** 2)"
   ]
  }
 ],
 "metadata": {
  "kernelspec": {
   "display_name": "Python [conda env:base] *",
   "language": "python",
   "name": "conda-base-py"
  },
  "language_info": {
   "codemirror_mode": {
    "name": "ipython",
    "version": 3
   },
   "file_extension": ".py",
   "mimetype": "text/x-python",
   "name": "python",
   "nbconvert_exporter": "python",
   "pygments_lexer": "ipython3",
   "version": "3.12.7"
  }
 },
 "nbformat": 4,
 "nbformat_minor": 5
}

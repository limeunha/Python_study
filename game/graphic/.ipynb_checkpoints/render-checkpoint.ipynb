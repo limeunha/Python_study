{
 "cells": [
  {
   "cell_type": "code",
   "execution_count": 1,
   "id": "e1e85ac0-3aa6-4b0d-a23b-ff31143df0d5",
   "metadata": {},
   "outputs": [],
   "source": [
    "def render_test():\n",
    "    print(\"render\")"
   ]
  },
  {
   "cell_type": "code",
   "execution_count": null,
   "id": "5cd35221-d90d-4d71-8dd8-c60d10a802c6",
   "metadata": {},
   "outputs": [],
   "source": []
  }
 ],
 "metadata": {
  "kernelspec": {
   "display_name": "Python [conda env:base] *",
   "language": "python",
   "name": "conda-base-py"
  },
  "language_info": {
   "codemirror_mode": {
    "name": "ipython",
    "version": 3
   },
   "file_extension": ".py",
   "mimetype": "text/x-python",
   "name": "python",
   "nbconvert_exporter": "python",
   "pygments_lexer": "ipython3",
   "version": "3.12.7"
  }
 },
 "nbformat": 4,
 "nbformat_minor": 5
}

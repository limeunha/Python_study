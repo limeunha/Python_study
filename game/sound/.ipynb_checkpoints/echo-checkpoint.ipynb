{
 "cells": [
  {
   "cell_type": "code",
   "execution_count": 1,
   "id": "905a941e-0b10-41f9-a469-7729c3091df4",
   "metadata": {},
   "outputs": [],
   "source": [
    "def echo_test():\n",
    "    print('echo')"
   ]
  },
  {
   "cell_type": "code",
   "execution_count": null,
   "id": "05a5fa35-d306-4b2e-8c78-aeba3b7de0d0",
   "metadata": {},
   "outputs": [],
   "source": []
  }
 ],
 "metadata": {
  "kernelspec": {
   "display_name": "Python [conda env:base] *",
   "language": "python",
   "name": "conda-base-py"
  },
  "language_info": {
   "codemirror_mode": {
    "name": "ipython",
    "version": 3
   },
   "file_extension": ".py",
   "mimetype": "text/x-python",
   "name": "python",
   "nbconvert_exporter": "python",
   "pygments_lexer": "ipython3",
   "version": "3.12.7"
  }
 },
 "nbformat": 4,
 "nbformat_minor": 5
}

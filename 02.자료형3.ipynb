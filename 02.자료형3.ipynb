{
 "cells": [
  {
   "cell_type": "code",
   "execution_count": 4,
   "id": "ef5e7c66-653a-4d63-a1ce-285c774cb7b5",
   "metadata": {},
   "outputs": [
    {
     "ename": "SyntaxError",
     "evalue": "unterminated string literal (detected at line 5) (505710048.py, line 5)",
     "output_type": "error",
     "traceback": [
      "\u001b[1;36m  Cell \u001b[1;32mIn[4], line 5\u001b[1;36m\u001b[0m\n\u001b[1;33m    print (\"I eat {0} apples.\" {1}days.format(10,\"three\")\")\u001b[0m\n\u001b[1;37m                                                         ^\u001b[0m\n\u001b[1;31mSyntaxError\u001b[0m\u001b[1;31m:\u001b[0m unterminated string literal (detected at line 5)\n"
     ]
    }


   ],
   "source": [
    "print (\"I eat %d apples.\" % 3)\n",
    "print (\"I eat %s apples.\" % \"five\")\n",
    "\n",
    "print (\"I eat {0} apples.\" .format(3))\n",
    "print (\"I eat {0} apples.\" {1}days.format(10,\"three\")\")\n",
    "\n",
    "name = '홍길동'\n",
    "age = 30\n",
    "print (f'나의 이름은 {name}이고, 나이는 {age}입니다.')"
   ]
  },
  {
   "cell_type": "code",
   "execution_count": 8,
   "id": "7e5ff340-3bf2-46af-a1ac-1b36c8a25df1",
   "metadata": {},
   "outputs": [
    {
     "name": "stdout",
     "output_type": "stream",
     "text": [
      "hi        \n",
      "        hi\n",
      "    hi    \n",
      "hi        \n",
      "        hi\n",
      "    hi    \n",
      "====hi====\n",
      "!!!!hi!!!!\n"
     ]
    }
   ],
   "source": [
    "#정렬\n",
    "print(\"{0:<10}\".format(\"hi\"))\n",
    "print(\"{0:>10}\".format(\"hi\"))\n",
    "print(\"{0:^10}\".format(\"hi\"))\n",
    "print(f'{\"hi\":<10}')\n",
    "print(f'{\"hi\":>10}')\n",
    "print(f'{\"hi\":^10}')\n",
    "\n",
    "\n",
    "#공백 채우기\n",
    "print(\"{0:=^10}\".format(\"hi\"))\n",
    "print(\"{0:!^10}\".format(\"hi\"))"
   ]
  },
  {
   "cell_type": "code",
   "execution_count": 18,
   "id": "8014cfbb-d05d-4a6e-97ea-a6eda3a820c7",
   "metadata": {},
   "outputs": [
    {
     "name": "stdout",
     "output_type": "stream",
     "text": [
      "3.421342\n",
      "3.4213\n",
      "    3.4213\n"
     ]
    },
    {
     "ename": "TypeError",
     "evalue": "not all arguments converted during string formatting",
     "output_type": "error",
     "traceback": [
      "\u001b[1;31m---------------------------------------------------------------------------\u001b[0m",
      "\u001b[1;31mTypeError\u001b[0m                                 Traceback (most recent call last)",
      "Cell \u001b[1;32mIn[18], line 6\u001b[0m\n\u001b[0;32m      3\u001b[0m \u001b[38;5;28mprint\u001b[39m(\u001b[38;5;124m\"\u001b[39m\u001b[38;5;132;01m%0.4f\u001b[39;00m\u001b[38;5;124m\"\u001b[39m \u001b[38;5;241m%\u001b[39m \u001b[38;5;241m3.42134234\u001b[39m)\n\u001b[0;32m      4\u001b[0m \u001b[38;5;28mprint\u001b[39m(\u001b[38;5;124m\"\u001b[39m\u001b[38;5;132;01m%10.4f\u001b[39;00m\u001b[38;5;124m\"\u001b[39m \u001b[38;5;241m%\u001b[39m \u001b[38;5;241m3.42134234\u001b[39m)\n\u001b[1;32m----> 6\u001b[0m \u001b[38;5;28mprint\u001b[39m(\u001b[38;5;124m\"\u001b[39m\u001b[38;5;124m0:0.4f\u001b[39m\u001b[38;5;124m\"\u001b[39m \u001b[38;5;241m%\u001b[39m \u001b[38;5;241m3.42134234\u001b[39m)\n\u001b[0;32m      7\u001b[0m \u001b[38;5;28mprint\u001b[39m(\u001b[38;5;124m\"\u001b[39m\u001b[38;5;124m0:10.4f\u001b[39m\u001b[38;5;124m\"\u001b[39m \u001b[38;5;241m%\u001b[39m \u001b[38;5;241m3.42134234\u001b[39m)\n\u001b[0;32m      9\u001b[0m y\u001b[38;5;241m=\u001b[39m\u001b[38;5;241m3.42134234\u001b[39m\n",
      "\u001b[1;31mTypeError\u001b[0m: not all arguments converted during string formatting"
     ]
    }
   ],
   "source": [
    "#소수점 표현\n",
    "print(\"%f\" % 3.42134234)\n",
    "print(\"%0.4f\" % 3.42134234)\n",
    "print(\"%10.4f\" % 3.42134234)\n",
    "\n",
    "print(\"0:0.4f\" % 3.42134234)\n",
    "print(\"0:10.4f\" % 3.42134234)\n",
    "\n",
    "y=3.42134234\n",
    "print(f'{y:0.4f}')\n",
    "print(f'{y:10.4f}')"
   ]
  },
  {
   "cell_type": "code",
   "execution_count": 24,
   "id": "3b427561-8613-4cdd-a27d-58fb7162a61d",
   "metadata": {},
   "outputs": [
    {
     "name": "stdout",
     "output_type": "stream",
     "text": [
      "8\n",
      "a,b,c,d\n",
      "Your leg is too short\n",
      "['Life', 'is', 'too', 'short']\n",
      "['류수영', ' 이승윤', ' 유이', ' 서인국']\n"
     ]
    }
   ],
   "source": [
    "#문자열 함수\n",
    "a = \"Life is too short\"\n",
    "print(a.index('t')) #문자의 인덱스 번호 출력\n",
    "\n",
    "print(\",\".join('abcd'))\n",
    "\n",
    "print(a.replace(\"Life\", \"Your leg\"))\n",
    "\n",
    "print(a.split()) #공백을 기준으로 문자열 나누기(리스트 형태로 반환)\n",
    "b = \"류수영, 이승윤, 유이, 서인국\"\n",
    "print(b.split(\",\"))"
   ]
  },
  {
   "cell_type": "markdown",
   "id": "563650f1-01ce-46c9-8ed5-ec46696e66ed",
   "metadata": {},
   "source": [
    "###리스트"
   ]
  },
  {
   "cell_type": "code",
   "execution_count": 32,
   "id": "44f25934-e146-4e41-ba1e-69c83a5575c6",
   "metadata": {},
   "outputs": [
    {
     "name": "stdout",
     "output_type": "stream",
     "text": [
      "1\n",
      "['a', 'b', 'c']\n",
      "['a', 'b', 'c']\n",
      "a\n",
      "a\n",
      "b\n"
     ]
    }
   ],
   "source": [
    "#리스트 인덱싱, 슬라이싱\n",
    "a = [1,2,3,['a','b','c']]\n",
    "print(a[0])\n",
    "print(a[-1])\n",
    "print(a[3])\n",
    "\n",
    "print(a[-1][0])\n",
    "print(a[3][0])\n",
    "print(a[3][1])"
   ]
  },
  {
   "cell_type": "code",
   "execution_count": 36,
   "id": "7d0ee7b1-b50c-4be2-91ec-ea1b40f13d0e",
   "metadata": {},
   "outputs": [
    {
     "name": "stdout",
     "output_type": "stream",
     "text": [
      "[1, 2]\n",
      "[1, 2]\n",
      "[2, 3, 4, 5]\n",
      "[1, 2, 3, 4, 5]\n"
     ]
    }
   ],
   "source": [
    "a = [1,2,3,4,5]\n",
    "\n",
    "print(a[0:2]) #2번 인덱스 직전까지\n",
    "print(a[:2])\n",
    "print(a[1:])\n",
    "print(a[:])"
   ]
  },
  {
   "cell_type": "code",
   "execution_count": 38,
   "id": "9cab9bd1-39c4-4e64-a49d-c9daf8363c24",
   "metadata": {},
   "outputs": [
    {
     "name": "stdout",
     "output_type": "stream",
     "text": [
      "[1, 2, 3, 4, 5, 6]\n",
      "[1, 2, 3, 1, 2, 3, 1, 2, 3]\n",
      "3\n"
     ]
    }
   ],
   "source": [
    "# 리스트 연산하기\n",
    "a = [1,2,3]\n",
    "b = [4,5,6]\n",
    "\n",
    "print(a+b)\n",
    "print(a*3)\n",
    "print(len(a)) #리스트 길이 구하기"
   ]
  },
  {
   "cell_type": "code",
   "execution_count": 40,
   "id": "867a524c-9e56-4541-a827-6d8edd677e00",
   "metadata": {},
   "outputs": [
    {
     "name": "stdout",
     "output_type": "stream",
     "text": [
      "[1, 2, 4]\n",
      "[1, 4]\n"
     ]
    }
   ],
   "source": [
    "#리스트 값 수정, 삭제\n",
    "a = [1,2,3]\n",
    "a[2] = 4\n",
    "print(a)\n",
    "\n",
    "del a [1]\n",
    "print(a)"
   ]
  },
  {
   "cell_type": "code",
   "execution_count": 46,
   "id": "52995ac5-0a9c-4165-bcfe-43e68f0e2386",
   "metadata": {},
   "outputs": [
    {
     "name": "stdout",
     "output_type": "stream",
     "text": [
      "[1, 2, 3, 4]\n",
      "[1, 2, 3, 4, [5, 6]]\n",
      "[0, 2, 8]\n",
      "2\n",
      "[4, 1, 2, 3]\n"
     ]
    }
   ],
   "source": [
    "#리스트 함수\n",
    "\n",
    "a=[1,2,3]\n",
    "a.append(4)\n",
    "print(a)\n",
    "\n",
    "a.append([5,6])\n",
    "print(a)\n",
    "\n",
    "a=[8,2,0]\n",
    "a.sort() #오름차순 정렬(문자도 정렬)\n",
    "print(a)\n",
    "\n",
    "a = [1,2,3]\n",
    "print(a.index(3)) #3이 몇번 인덱스 번호에 있는지\n",
    "\n",
    "a.insert(0,4) #0번 인덱스 위치에 4를 삽입\n",
    "print(a)\n",
    "\n",
    "a.remove(3) #3을 삭제\n",
    "print(a)\n",
    "\n",
    "a.extend([4,5]) #리스트 확장\n",
    "print(a)"
   ]
  },
  {
   "cell_type": "code",
   "execution_count": null,
   "id": "871228df-2d19-40fb-80fc-985ba20d83c0",
   "metadata": {},
   "outputs": [],
   "source": []
  }
 ],
 "metadata": {
  "kernelspec": {
   "display_name": "Python [conda env:base] *",
   "language": "python",
   "name": "conda-base-py"
  },
  "language_info": {
   "codemirror_mode": {
    "name": "ipython",
    "version": 3
   },
   "file_extension": ".py",
   "mimetype": "text/x-python",
   "name": "python",
   "nbconvert_exporter": "python",
   "pygments_lexer": "ipython3",
   "version": "3.12.7"
  }
 },
 "nbformat": 4,
 "nbformat_minor": 5
}

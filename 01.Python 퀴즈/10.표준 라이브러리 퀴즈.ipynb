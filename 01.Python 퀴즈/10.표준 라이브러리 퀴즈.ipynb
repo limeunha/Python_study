{
 "cells": [
  {
   "cell_type": "code",
   "execution_count": 5,
   "id": "7da2b6da-9f3e-44fb-b73a-4c172d56dc49",
   "metadata": {},
   "outputs": [
    {
     "ename": "SyntaxError",
     "evalue": "invalid syntax. Perhaps you forgot a comma? (1832483098.py, line 6)",
     "output_type": "error",
     "traceback": [
      "\u001b[1;36m  Cell \u001b[1;32mIn[5], line 6\u001b[1;36m\u001b[0m\n\u001b[1;33m    month = int(input('월: ')\u001b[0m\n\u001b[1;37m                ^\u001b[0m\n\u001b[1;31mSyntaxError\u001b[0m\u001b[1;31m:\u001b[0m invalid syntax. Perhaps you forgot a comma?\n"
     ]
    }
   ],
   "source": [
    "#1. 사용자가 태어난 연도, 월, 일을 입력받고 오늘 날짜의 연도에서 태어난 연도를 뺀 후 몇 살인지 출력하는 프로그램을 작성하세요.(datetime.date 사용)\n",
    "\n",
    "import datetime\n",
    "\n",
    "year = int(input('년도: '))\n",
    "month = int(input('월: ')\n",
    "day = int(input('일: ')\n",
    "\n",
    "\n",
    "birth_date = datetime.date(year, month, day)\n",
    "today = datetime.today()\n",
    "age = today.year - birth_date.year\n",
    "\n",
    "print(age, \"살\")"
   ]
  },
  {
   "cell_type": "code",
   "execution_count": null,
   "id": "748ee2e1-5623-40ba-9712-69176ce0306d",
   "metadata": {},
   "outputs": [],
   "source": []
  }
 ],
 "metadata": {
  "kernelspec": {
   "display_name": "Python [conda env:base] *",
   "language": "python",
   "name": "conda-base-py"
  },
  "language_info": {
   "codemirror_mode": {
    "name": "ipython",
    "version": 3
   },
   "file_extension": ".py",
   "mimetype": "text/x-python",
   "name": "python",
   "nbconvert_exporter": "python",
   "pygments_lexer": "ipython3",
   "version": "3.12.7"
  }
 },
 "nbformat": 4,
 "nbformat_minor": 5
}

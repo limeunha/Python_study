{
 "cells": [
  {
   "cell_type": "code",
   "execution_count": 1,
   "id": "60d5deb6-f684-4b64-b224-77e1f244f7dc",
   "metadata": {},
   "outputs": [],
   "source": [
    "# 1번"
   ]
  },
  {
   "cell_type": "code",
   "execution_count": 3,
   "id": "2de3cc27-8c89-4572-aa35-9dd2f33c93c0",
   "metadata": {},
   "outputs": [
    {
     "name": "stdout",
     "output_type": "stream",
     "text": [
      "I am an animal\n"
     ]
    }
   ],
   "source": [
    "class Animal:\n",
    "    def speak(self):\n",
    "        return 'I am an animal'\n",
    "\n",
    "animal = Animal()\n",
    "print(animal.speak())"
   ]
  },
  {
   "cell_type": "code",
   "execution_count": 11,
   "id": "69fb5452-89a6-46d9-9695-8871079b797f",
   "metadata": {},
   "outputs": [
    {
     "name": "stdout",
     "output_type": "stream",
     "text": [
      "I am an animal\n"
     ]
    }
   ],
   "source": [
    "# 2번\n",
    "\n",
    "class Animal:\n",
    "    def speak(self):\n",
    "        return 'I am an animal'\n",
    "\n",
    "class Dog(Animal):\n",
    "    pass\n",
    "\n",
    "dog = Dog()\n",
    "print(dog.speak())"
   ]
  },
  {
   "cell_type": "code",
   "execution_count": 13,
   "id": "a197118c-1a91-4d2a-b414-42a822b8a89f",
   "metadata": {},
   "outputs": [
    {
     "name": "stdout",
     "output_type": "stream",
     "text": [
      "멍멍\n",
      "야옹\n"
     ]
    }
   ],
   "source": [
    "class Animal:\n",
    "    def speak(self):\n",
    "        return 'I am an animal'\n",
    "\n",
    "class Dog(Animal):\n",
    "   def speak(self):\n",
    "       return '멍멍'\n",
    "   \n",
    "class Cat(Animal):\n",
    "    def speak(self):\n",
    "        return'야옹'\n",
    "\n",
    "dog = Dog()\n",
    "print(dog.speak())\n",
    "\n",
    "cat = Cat()\n",
    "print(cat.speak())"
   ]
  },
  {
   "cell_type": "code",
   "execution_count": 15,
   "id": "28e25252-8bea-41c1-8a5a-571f4af9447f",
   "metadata": {},
   "outputs": [
    {
     "ename": "NameError",
     "evalue": "name 'author' is not defined",
     "output_type": "error",
     "traceback": [
      "\u001b[1;31m---------------------------------------------------------------------------\u001b[0m",
      "\u001b[1;31mNameError\u001b[0m                                 Traceback (most recent call last)",
      "Cell \u001b[1;32mIn[15], line 16\u001b[0m\n\u001b[0;32m     12\u001b[0m         \u001b[38;5;28;01mreturn\u001b[39;00m \u001b[38;5;124mf\u001b[39m\u001b[38;5;124m'\u001b[39m\u001b[38;5;124m제목:\u001b[39m\u001b[38;5;132;01m{\u001b[39;00m\u001b[38;5;28mself\u001b[39m\u001b[38;5;241m.\u001b[39mtitle\u001b[38;5;132;01m}\u001b[39;00m\u001b[38;5;124m, 저자:\u001b[39m\u001b[38;5;132;01m{\u001b[39;00m\u001b[38;5;28mself\u001b[39m\u001b[38;5;241m.\u001b[39mauthor\u001b[38;5;132;01m}\u001b[39;00m\u001b[38;5;124m, 가격:\u001b[39m\u001b[38;5;132;01m{\u001b[39;00m\u001b[38;5;28mself\u001b[39m\u001b[38;5;241m.\u001b[39mprice\u001b[38;5;132;01m}\u001b[39;00m\u001b[38;5;124m, 재고:\u001b[39m\u001b[38;5;132;01m{\u001b[39;00m\u001b[38;5;28mself\u001b[39m\u001b[38;5;241m.\u001b[39mstock\u001b[38;5;132;01m}\u001b[39;00m\u001b[38;5;124m권\u001b[39m\u001b[38;5;124m'\u001b[39m\n\u001b[0;32m     15\u001b[0m \u001b[38;5;66;03m# Book 클래스 구현 후 아래 코드를 실행하세요.\u001b[39;00m\n\u001b[1;32m---> 16\u001b[0m book \u001b[38;5;241m=\u001b[39m Book(\u001b[38;5;124m\"\u001b[39m\u001b[38;5;124mPython Programming\u001b[39m\u001b[38;5;124m\"\u001b[39m, \u001b[38;5;124m\"\u001b[39m\u001b[38;5;124m김파이\u001b[39m\u001b[38;5;124m\"\u001b[39m, \u001b[38;5;241m25000\u001b[39m, \u001b[38;5;241m10\u001b[39m)\n\u001b[0;32m     18\u001b[0m \u001b[38;5;66;03m# 책 정보 출력\u001b[39;00m\n\u001b[0;32m     19\u001b[0m \u001b[38;5;28mprint\u001b[39m(book)\n",
      "Cell \u001b[1;32mIn[15], line 6\u001b[0m, in \u001b[0;36mBook.__init__\u001b[1;34m(self, title, aythor, price, stock)\u001b[0m\n\u001b[0;32m      4\u001b[0m \u001b[38;5;28;01mdef\u001b[39;00m \u001b[38;5;21m__init__\u001b[39m(\u001b[38;5;28mself\u001b[39m, title, aythor, price, stock):\n\u001b[0;32m      5\u001b[0m     \u001b[38;5;28mself\u001b[39m\u001b[38;5;241m.\u001b[39mtitle \u001b[38;5;241m=\u001b[39m title\n\u001b[1;32m----> 6\u001b[0m     \u001b[38;5;28mself\u001b[39m\u001b[38;5;241m.\u001b[39mauthor \u001b[38;5;241m=\u001b[39m author\n\u001b[0;32m      7\u001b[0m     \u001b[38;5;28mself\u001b[39m\u001b[38;5;241m.\u001b[39mprice \u001b[38;5;241m=\u001b[39m price\n\u001b[0;32m      8\u001b[0m     \u001b[38;5;28mself\u001b[39m\u001b[38;5;241m.\u001b[39mstock \u001b[38;5;241m=\u001b[39m stock\n",
      "\u001b[1;31mNameError\u001b[0m: name 'author' is not defined"
     ]
    }
   ],
   "source": [
    "# 4번\n",
    "\n",
    "class Book:\n",
    "    def __init__(self, title, aythor, price, stock):\n",
    "        self.title = title\n",
    "        self.author = author\n",
    "        self.price = price\n",
    "        self.stock = stock\n",
    "\n",
    "\n",
    "    def __str__(self):\n",
    "        return f'제목:{self.title}, 저자:{self.author}, 가격:{self.price}, 재고:{self.stock}권'\n",
    "\n",
    "\n",
    "# Book 클래스 구현 후 아래 코드를 실행하세요.\n",
    "book = Book(\"Python Programming\", \"김파이\", 25000, 10)\n",
    "\n",
    "# 책 정보 출력\n",
    "print(book)\n"
   ]
  },
  {
   "cell_type": "code",
   "execution_count": null,
   "id": "69c1397e-228f-4d8d-aca9-36f7135eefc9",
   "metadata": {},
   "outputs": [],
   "source": []
  }
 ],
 "metadata": {
  "kernelspec": {
   "display_name": "Python [conda env:base] *",
   "language": "python",
   "name": "conda-base-py"
  },
  "language_info": {
   "codemirror_mode": {
    "name": "ipython",
    "version": 3
   },
   "file_extension": ".py",
   "mimetype": "text/x-python",
   "name": "python",
   "nbconvert_exporter": "python",
   "pygments_lexer": "ipython3",
   "version": "3.12.7"
  }
 },
 "nbformat": 4,
 "nbformat_minor": 5
}

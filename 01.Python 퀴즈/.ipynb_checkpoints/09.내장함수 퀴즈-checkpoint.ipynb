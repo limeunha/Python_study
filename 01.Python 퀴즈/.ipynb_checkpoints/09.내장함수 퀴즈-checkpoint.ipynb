{
 "cells": [
  {
   "cell_type": "code",
   "execution_count": 1,
   "id": "2dd39ac1-ba22-4a6c-a815-61e9117c8a26",
   "metadata": {},
   "outputs": [
    {
     "name": "stdout",
     "output_type": "stream",
     "text": [
      "4\n"
     ]
    }
   ],
   "source": [
    "#1번\n",
    "fruits = [\"apple\", \"banana\", \"cherry\", \"date\"]\n",
    "# 코드를 작성하세요\n",
    "print(len(fruits))"
   ]
  },
  {
   "cell_type": "code",
   "execution_count": 3,
   "id": "91ee25ce-4cc6-4916-8858-338ce81ae43d",
   "metadata": {},
   "outputs": [
    {
     "data": {
      "text/plain": [
       "42"
      ]
     },
     "execution_count": 3,
     "metadata": {},
     "output_type": "execute_result"
    }
   ],
   "source": [
    "#2번\n",
    "numbers = [10, 25, 37, 42, 3, 17]\n",
    "# 코드를 작성하세요\n",
    "max(numbers)"
   ]
  },
  {
   "cell_type": "code",
   "execution_count": 7,
   "id": "d3054608-4b1e-4d1c-bfa2-0c2c3b66573f",
   "metadata": {},
   "outputs": [
    {
     "data": {
      "text/plain": [
       "['Alice', 'Bob', 'John', 'Zoe']"
      ]
     },
     "execution_count": 7,
     "metadata": {},
     "output_type": "execute_result"
    }
   ],
   "source": [
    "#5번\n",
    "names = [\"Zoe\", \"Alice\", \"John\", \"Bob\"]\n",
    "# 코드를 작성하세요\n",
    "names.sort()\n",
    "names"
   ]
  },
  {
   "cell_type": "code",
   "execution_count": 9,
   "id": "ae7be1c0-b977-4b5a-9f4c-6223a22189f4",
   "metadata": {},
   "outputs": [
    {
     "name": "stdin",
     "output_type": "stream",
     "text": [
      "이름입력: 라라\n"
     ]
    },
    {
     "name": "stdout",
     "output_type": "stream",
     "text": [
      "Hello, 라라!\n"
     ]
    }
   ],
   "source": [
    "#6번\n",
    "# 코드를 작성하세요\n",
    "name = input('이름입력:')\n",
    "print(f'Hello, {name}!')"
   ]
  },
  {
   "cell_type": "code",
   "execution_count": 11,
   "id": "6be90903-4611-419d-81d7-4325b04a4a43",
   "metadata": {},
   "outputs": [
    {
     "data": {
      "text/plain": [
       "[1, 4, 9, 16, 25]"
      ]
     },
     "execution_count": 11,
     "metadata": {},
     "output_type": "execute_result"
    }
   ],
   "source": [
    "#7번\n",
    "numbers = [1, 2, 3, 4, 5]\n",
    "# 코드를 작성하세요\n",
    "\n",
    "list(map(lambda x: x**2, numbers))"
   ]
  },
  {
   "cell_type": "code",
   "execution_count": 13,
   "id": "005bcc2b-6dec-41b3-8dc4-d38fda0e9cd5",
   "metadata": {},
   "outputs": [
    {
     "data": {
      "text/plain": [
       "[2, 4, 6, 8, 10]"
      ]
     },
     "execution_count": 13,
     "metadata": {},
     "output_type": "execute_result"
    }
   ],
   "source": [
    "#8번\n",
    "numbers = [1, 2, 3, 4, 5, 6, 7, 8, 9, 10]\n",
    "# 코드를 작성하세요\n",
    "\n",
    "def filter_func(x):\n",
    "    return x % 2 == 0\n",
    "\n",
    "list(filter(filter_func, numbers))"
   ]
  },
  {
   "cell_type": "code",
   "execution_count": 15,
   "id": "e938d322-82ab-473b-9d4e-c692c52f4cd0",
   "metadata": {},
   "outputs": [
    {
     "name": "stdout",
     "output_type": "stream",
     "text": [
      "<class 'int'>\n"
     ]
    }
   ],
   "source": [
    "#10번\n",
    "value = 42\n",
    "# 코드를 작성하세요\n",
    "print(type(value))"
   ]
  },
  {
   "cell_type": "code",
   "execution_count": null,
   "id": "937915ef-d74a-4056-bd02-1f118b162c7c",
   "metadata": {},
   "outputs": [],
   "source": []
  }
 ],
 "metadata": {
  "kernelspec": {
   "display_name": "Python [conda env:base] *",
   "language": "python",
   "name": "conda-base-py"
  },
  "language_info": {
   "codemirror_mode": {
    "name": "ipython",
    "version": 3
   },
   "file_extension": ".py",
   "mimetype": "text/x-python",
   "name": "python",
   "nbconvert_exporter": "python",
   "pygments_lexer": "ipython3",
   "version": "3.12.7"
  }
 },
 "nbformat": 4,
 "nbformat_minor": 5
}

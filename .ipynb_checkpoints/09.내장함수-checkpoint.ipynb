{
 "cells": [
  {
   "cell_type": "code",
   "execution_count": 1,
   "id": "38d2e1db-9c7f-4976-bd63-103cd300558e",
   "metadata": {},
   "outputs": [
    {
     "name": "stdout",
     "output_type": "stream",
     "text": [
      "10\n"
     ]
    }
   ],
   "source": [
    "# 1.abs(): 절댓값을 반환\n",
    "print(abs(-10))"
   ]
  },
  {
   "cell_type": "code",
   "execution_count": 7,
   "id": "47a34892-593a-44e5-88d4-ec8d01f4acfa",
   "metadata": {},
   "outputs": [
    {
     "name": "stdout",
     "output_type": "stream",
     "text": [
      "True\n",
      "False\n"
     ]
    }
   ],
   "source": [
    "# 2.all(): 모든 요소가 참이면 true를 반환\n",
    "print(all([True, 1, \"a\"]))\n",
    "print(all([True, 0, \"a\"]))"
   ]
  },
  {
   "cell_type": "code",
   "execution_count": 9,
   "id": "156c9059-ca6a-4617-9629-36866e575065",
   "metadata": {},
   "outputs": [
    {
     "name": "stdout",
     "output_type": "stream",
     "text": [
      "(2, 1)\n"
     ]
    }
   ],
   "source": [
    "# 6. divmod(): 두 숫자를 나눈 몫과 나머지를 튜플로 반환\n",
    "print(divmod(7, 3))"
   ]
  },
  {
   "cell_type": "code",
   "execution_count": 11,
   "id": "4e67e84a-1736-4044-b404-aba9680da88a",
   "metadata": {},
   "outputs": [
    {
     "name": "stdout",
     "output_type": "stream",
     "text": [
      "0 a\n",
      "1 b\n"
     ]
    }
   ],
   "source": [
    "# 7.enumerate()\n",
    "\n",
    "for i, v in enumerate(['a', 'b']):\n",
    "    print(i, v)"
   ]
  },
  {
   "cell_type": "code",
   "execution_count": 13,
   "id": "a6bce567-f2d9-49fe-aa5d-8e3f2fe71731",
   "metadata": {},
   "outputs": [
    {
     "name": "stdout",
     "output_type": "stream",
     "text": [
      "3\n"
     ]
    }
   ],
   "source": [
    "# 8. eval(): 문자열로된 표현식을 실행\n",
    "\n",
    "print(eval('1 + 2'))"
   ]
  },
  {
   "cell_type": "code",
   "execution_count": 15,
   "id": "212503ce-c2da-4c0e-aa22-b314231f1c97",
   "metadata": {},
   "outputs": [
    {
     "name": "stdout",
     "output_type": "stream",
     "text": [
      "[1, 2, 6]\n"
     ]
    }
   ],
   "source": [
    "# 9. fillter(): 조건을 만족하는 요소만 반환\n",
    "\n",
    "def positive(x):\n",
    "    return x > 0\n",
    "\n",
    "print( list(filter(positive, [1, -3, 2, 0, -5, 6])))"
   ]
  },
  {
   "cell_type": "code",
   "execution_count": 17,
   "id": "954f125e-d4be-482b-894c-fb01615ac394",
   "metadata": {},
   "outputs": [
    {
     "name": "stdout",
     "output_type": "stream",
     "text": [
      "0xff\n"
     ]
    }
   ],
   "source": [
    "# 10. hex(): 정수를 16진수로 바꿈\n",
    "print(hex(255))"
   ]
  },
  {
   "cell_type": "code",
   "execution_count": 19,
   "id": "f8959cb0-ff3d-4db0-a1d9-4a732169f028",
   "metadata": {},
   "outputs": [
    {
     "data": {
      "text/plain": [
       "True"
      ]
     },
     "execution_count": 19,
     "metadata": {},
     "output_type": "execute_result"
    }
   ],
   "source": [
    "# instance(): 객체가 특정 클래스의 인스턴스인지 확인\n",
    "\n",
    "class Person:\n",
    "    pass\n",
    "\n",
    "a = Person()\n",
    "isinstance(a, Person) # a객체가 Person클래스의 객체인지 확인"
   ]
  },
  {
   "cell_type": "code",
   "execution_count": 23,
   "id": "4972ccd0-16f7-4574-bdbd-81f493c3a10b",
   "metadata": {},
   "outputs": [
    {
     "data": {
      "text/plain": [
       "[2, 4, 6, 8]"
      ]
     },
     "execution_count": 23,
     "metadata": {},
     "output_type": "execute_result"
    }
   ],
   "source": [
    "# 12. map()\n",
    "\n",
    "def two_times(x):\n",
    "    return x * 2\n",
    "\n",
    "\n",
    "list(map(two_times, [1,2,3,4]))"
   ]
  },
  {
   "cell_type": "code",
   "execution_count": 25,
   "id": "4c6fb401-51e8-497c-835f-beed6a664039",
   "metadata": {},
   "outputs": [
    {
     "name": "stdout",
     "output_type": "stream",
     "text": [
      "3\n"
     ]
    }
   ],
   "source": [
    "# 13. max()\n",
    "print(max([1,2,3]))"
   ]
  },
  {
   "cell_type": "code",
   "execution_count": 27,
   "id": "d5ba4254-18d8-47b2-a583-0d2f392406ac",
   "metadata": {},
   "outputs": [
    {
     "name": "stdout",
     "output_type": "stream",
     "text": [
      "1\n"
     ]
    }
   ],
   "source": [
    "# 13. min()\n",
    "print(min([1,2,3]))"
   ]
  },
  {
   "cell_type": "code",
   "execution_count": 29,
   "id": "9a1d02ad-3eb5-47b5-a762-781d1f1797c6",
   "metadata": {},
   "outputs": [
    {
     "name": "stdout",
     "output_type": "stream",
     "text": [
      "0o10\n"
     ]
    }
   ],
   "source": [
    "# 14. oct():정수를 8진수로 바꿈\n",
    "print(oct(8))"
   ]
  },
  {
   "cell_type": "code",
   "execution_count": 31,
   "id": "47d4e418-58a3-4298-a53b-d3a3cb47e092",
   "metadata": {},
   "outputs": [
    {
     "name": "stdout",
     "output_type": "stream",
     "text": [
      "65\n"
     ]
    }
   ],
   "source": [
    "# 15. ord(): 문자를 정수 유니코드로 바꿈\n",
    "print(ord('A'))"
   ]
  },
  {
   "cell_type": "code",
   "execution_count": 33,
   "id": "0e6489f0-4950-495e-8ad9-8df97fcf6108",
   "metadata": {},
   "outputs": [
    {
     "name": "stdout",
     "output_type": "stream",
     "text": [
      "8\n"
     ]
    }
   ],
   "source": [
    "# 16. pow():거듭제곱 계산\n",
    "print(pow(2,3))"
   ]
  },
  {
   "cell_type": "code",
   "execution_count": 35,
   "id": "250b46be-2d04-4637-8661-29add4cfbc77",
   "metadata": {},
   "outputs": [
    {
     "name": "stdout",
     "output_type": "stream",
     "text": [
      "3.14\n",
      "3.142\n",
      "3.1416\n"
     ]
    }
   ],
   "source": [
    "# 17. round(): 반올림\n",
    "print(round(3.14159, 2))\n",
    "print(round(3.14159, 3))\n",
    "print(round(3.14159, 4))"
   ]
  },
  {
   "cell_type": "code",
   "execution_count": 37,
   "id": "2772e6d6-6d71-4784-9758-a15cc2bd8f0e",
   "metadata": {},
   "outputs": [
    {
     "name": "stdout",
     "output_type": "stream",
     "text": [
      "[1, 2, 3]\n",
      "['a', 'b', 'c']\n",
      "['가', '나', '다']\n"
     ]
    }
   ],
   "source": [
    "# 18. sorted(): 오름차순 정렬\n",
    "print(sorted([3,2,1]))\n",
    "print(sorted(['c','a','b']))\n",
    "print(sorted(['나','다','가']))"
   ]
  },
  {
   "cell_type": "code",
   "execution_count": null,
   "id": "2dfe5d4e-515d-45fb-b1c9-093a95ef8ed5",
   "metadata": {},
   "outputs": [],
   "source": []
  }
 ],
 "metadata": {
  "kernelspec": {
   "display_name": "Python [conda env:base] *",
   "language": "python",
   "name": "conda-base-py"
  },
  "language_info": {
   "codemirror_mode": {
    "name": "ipython",
    "version": 3
   },
   "file_extension": ".py",
   "mimetype": "text/x-python",
   "name": "python",
   "nbconvert_exporter": "python",
   "pygments_lexer": "ipython3",
   "version": "3.12.7"
  }
 },
 "nbformat": 4,
 "nbformat_minor": 5
}

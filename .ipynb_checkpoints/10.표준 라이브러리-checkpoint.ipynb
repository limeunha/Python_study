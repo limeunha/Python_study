{
 "cells": [
  {
   "cell_type": "markdown",
   "id": "21e7dc41-b803-47ae-a037-6a8fa2c7e030",
   "metadata": {},
   "source": [
    "### 표준라이브러리"
   ]
  },
  {
   "cell_type": "markdown",
   "id": "bf065cf4-2234-498f-9ddf-bb2a097ad5df",
   "metadata": {},
   "source": [
    "## 년, 월,일로 날짜를 표현할때 사용"
   ]
  },
  {
   "cell_type": "code",
   "execution_count": 6,
   "id": "2b7aba07-8a3b-4dde-a3b9-4ec0a71a6c80",
   "metadata": {},
   "outputs": [
    {
     "name": "stdout",
     "output_type": "stream",
     "text": [
      "2021-12-14\n",
      "2023-04-05\n"
     ]
    }
   ],
   "source": [
    "# 만역 A군과 B양이 2021년 12월 14일 부터 만나기 시작했다면 2023년 4월 5일은 둘이 사귄지 며칠째 되는 날일까?\n",
    "# 아울러 사귀기 시작한 2021년 12월 14일은 무슨 요일이었을까?\n",
    "\n",
    "import datetime\n",
    "day1 = datetime.date(2021, 12, 14)\n",
    "day2 = datetime.date(2023, 4, 5)\n",
    "\n",
    "print(day1)\n",
    "print(day2)"
   ]
  },
  {
   "cell_type": "code",
   "execution_count": 8,
   "id": "4197a71f-34f3-480e-a55a-c4e1c7fa5f27",
   "metadata": {},
   "outputs": [
    {
     "name": "stdout",
     "output_type": "stream",
     "text": [
      "477\n",
      "1\n"
     ]
    }
   ],
   "source": [
    "diff = day2 - day1\n",
    "print(diff.days) #사귄일수\n",
    "\n",
    "day = datetime.date(2021, 12, 14)\n",
    "print(day.weekday()) #사귄요일"
   ]
  },
  {
   "cell_type": "markdown",
   "id": "cca3ee97-ba84-4a28-b737-b9c99d2c086b",
   "metadata": {},
   "source": [
    "import time\n",
    "\n",
    "time.time()"
   ]
  },
  {
   "cell_type": "code",
   "execution_count": 14,
   "id": "e573a10c-57d2-4e46-9a1b-1382af8e20f0",
   "metadata": {},
   "outputs": [
    {
     "name": "stdout",
     "output_type": "stream",
     "text": [
      "3초 동안 대기...\n",
      "끝!\n"
     ]
    }
   ],
   "source": [
    "# 프로그램 실행을 지정된 초만큼 일시 중지\n",
    "print('3초 동안 대기...')\n",
    "time.sleep(3)\n",
    "print('끝!')"
   ]
  },
  {
   "cell_type": "code",
   "execution_count": 18,
   "id": "c77ed50b-617f-4f2a-8773-2de6515dbed7",
   "metadata": {},
   "outputs": [
    {
     "data": {
      "text/plain": [
       "'01/21/25'"
      ]
     },
     "execution_count": 18,
     "metadata": {},
     "output_type": "execute_result"
    }
   ],
   "source": [
    "time.strftime('%x', time.localtime(time.time()))"
   ]
  },
  {
   "cell_type": "code",
   "execution_count": 20,
   "id": "a892d2b9-9cd2-4f35-b6dc-3422e60e4be5",
   "metadata": {},
   "outputs": [
    {
     "data": {
      "text/plain": [
       "'Tue Jan 21 09:58:43 2025'"
      ]
     },
     "execution_count": 20,
     "metadata": {},
     "output_type": "execute_result"
    }
   ],
   "source": [
    "time.strftime('%c', time.localtime(time.time()))"
   ]
  },
  {
   "cell_type": "markdown",
   "id": "dd5863d1-1771-4280-830f-bb66ee1933ab",
   "metadata": {},
   "source": [
    "### 3. math"
   ]
  },
  {
   "cell_type": "code",
   "execution_count": 23,
   "id": "cd53788c-d6da-4e21-a274-36085d7aa293",
   "metadata": {},
   "outputs": [
    {
     "name": "stdout",
     "output_type": "stream",
     "text": [
      "원주율: 3.141592653589793\n",
      "2의 3제곱: 8.0\n",
      "16의 제곱근: 4.0\n",
      "3.14의 올림: 4\n",
      "3.14의 내림: 3\n",
      "3.99의 버림: 3\n"
     ]
    }
   ],
   "source": [
    "import math\n",
    "\n",
    "print(\"원주율:\", math.pi)\n",
    "print(\"2의 3제곱:\", math.pow(2, 3))\n",
    "print(\"16의 제곱근:\", math.sqrt(16))\n",
    "print(\"3.14의 올림:\", math.ceil(3.14))\n",
    "print(\"3.14의 내림:\", math.floor(3.14))\n",
    "print(\"3.99의 버림:\", math.trunc(3.99))"
   ]
  },
  {
   "cell_type": "markdown",
   "id": "5c0333ea-249f-4387-b47d-b4356bda093c",
   "metadata": {},
   "source": [
    "### 4. random()"
   ]
  },
  {
   "cell_type": "code",
   "execution_count": 33,
   "id": "7206995c-0dc9-4f5c-ad86-a273c6161df2",
   "metadata": {},
   "outputs": [
    {
     "data": {
      "text/plain": [
       "0.7440713235366553"
      ]
     },
     "execution_count": 33,
     "metadata": {},
     "output_type": "execute_result"
    }
   ],
   "source": [
    "import random\n",
    "random.random() # 0.0 ~ 1.0 사이의 난수"
   ]
  },
  {
   "cell_type": "code",
   "execution_count": 35,
   "id": "e9ec4197-4bf7-4464-ad63-04c494558f3a",
   "metadata": {},
   "outputs": [
    {
     "data": {
      "text/plain": [
       "29"
      ]
     },
     "execution_count": 35,
     "metadata": {},
     "output_type": "execute_result"
    }
   ],
   "source": [
    "random.randint(1, 30)"
   ]
  },
  {
   "cell_type": "markdown",
   "id": "8e40e13f-44e7-45aa-b537-a96d98b6506a",
   "metadata": {},
   "source": [
    "### 8.pickle"
   ]
  },
  {
   "cell_type": "code",
   "execution_count": 38,
   "id": "c34d0d23-8d1c-4909-ba9e-b244297e5c2f",
   "metadata": {},
   "outputs": [
    {
     "name": "stdout",
     "output_type": "stream",
     "text": [
      "데이터가 저장되었습니다.\n",
      "파일에서 로드된 데이터: {'name': 'Alice', 'age': 30, 'hobbies': ['reading', 'cycling', 'hiking']}\n"
     ]
    }
   ],
   "source": [
    "import pickle\n",
    "\n",
    "# 저장할 데이터 (Python 객체)\n",
    "data = {\n",
    "    \"name\": \"Alice\",\n",
    "    \"age\": 30,\n",
    "    \"hobbies\": [\"reading\", \"cycling\", \"hiking\"]\n",
    "}\n",
    "\n",
    "# 1. 데이터를 pickle 파일에 저장\n",
    "with open(\"test.txt\", \"wb\") as file:  # \"wb\"는 write binary 모드\n",
    "    pickle.dump(data, file)\n",
    "    print(\"데이터가 저장되었습니다.\")\n",
    "\n",
    "# 2. pickle 파일에서 데이터를 읽어오기\n",
    "with open(\"test.txt\", \"rb\") as file:  # \"rb\"는 read binary 모드\n",
    "    loaded_data = pickle.load(file)\n",
    "    print(\"파일에서 로드된 데이터:\", loaded_data)"
   ]
  },
  {
   "cell_type": "code",
   "execution_count": null,
   "id": "f86040d4-d0af-448e-80ab-347afa483657",
   "metadata": {},
   "outputs": [],
   "source": []
  }
 ],
 "metadata": {
  "kernelspec": {
   "display_name": "Python [conda env:base] *",
   "language": "python",
   "name": "conda-base-py"
  },
  "language_info": {
   "codemirror_mode": {
    "name": "ipython",
    "version": 3
   },
   "file_extension": ".py",
   "mimetype": "text/x-python",
   "name": "python",
   "nbconvert_exporter": "python",
   "pygments_lexer": "ipython3",
   "version": "3.12.7"
  }
 },
 "nbformat": 4,
 "nbformat_minor": 5
}

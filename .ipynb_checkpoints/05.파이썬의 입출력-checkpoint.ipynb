{
 "cells": [
  {
   "cell_type": "markdown",
   "id": "392514f7-767c-42a0-925d-eca509ab2b9b",
   "metadata": {},
   "source": [
    "### 1.사용자 입출력"
   ]
  },
  {
   "cell_type": "code",
   "execution_count": 2,
   "id": "d8095087-bcbb-4ff6-a762-969010044cfd",
   "metadata": {},
   "outputs": [
    {
     "name": "stdin",
     "output_type": "stream",
     "text": [
      " 안녕하세요\n"
     ]
    },
    {
     "name": "stdout",
     "output_type": "stream",
     "text": [
      "안녕하세요\n"
     ]
    }
   ],
   "source": [
    "a = input()\n",
    "print(a)"
   ]
  },
  {
   "cell_type": "markdown",
   "id": "2bf36300-1756-47fb-9518-78f1256e73b5",
   "metadata": {},
   "source": [
    "### 2.파일 읽고 쓰기"
   ]
  },
  {
   "cell_type": "code",
   "execution_count": 7,
   "id": "5e052251-c16d-4ca1-be93-7c88d12730de",
   "metadata": {},
   "outputs": [],
   "source": [
    "# 파일 생성하기\n",
    "f = open(\"C:/doit/새파일.txt\", 'w')\n",
    "f.close()"
   ]
  },
  {
   "cell_type": "code",
   "execution_count": null,
   "id": "cd0c07a4-8392-4c6c-bb32-219a1cb85ba5",
   "metadata": {},
   "outputs": [],
   "source": []
  }
 ],
 "metadata": {
  "kernelspec": {
   "display_name": "Python [conda env:base] *",
   "language": "python",
   "name": "conda-base-py"
  },
  "language_info": {
   "codemirror_mode": {
    "name": "ipython",
    "version": 3
   },
   "file_extension": ".py",
   "mimetype": "text/x-python",
   "name": "python",
   "nbconvert_exporter": "python",
   "pygments_lexer": "ipython3",
   "version": "3.12.7"
  }
 },
 "nbformat": 4,
 "nbformat_minor": 5
}
